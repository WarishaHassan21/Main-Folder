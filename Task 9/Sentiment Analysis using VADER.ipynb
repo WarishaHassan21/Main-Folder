{
 "cells": [
  {
   "cell_type": "code",
   "execution_count": 4,
   "id": "7ba141dc-9546-429d-aaf0-253ca08a8e93",
   "metadata": {},
   "outputs": [
    {
     "name": "stdout",
     "output_type": "stream",
     "text": [
      "\n",
      "1st Statement:\n",
      "Overall sentiment dictionary is :  {'neg': 0.0, 'neu': 0.5, 'pos': 0.5, 'compound': 0.6115}\n",
      "Sentence was rated as  0.0 % Negative\n",
      "Sentence was rated as  50.0 % Neutral\n",
      "Sentence was rated as  50.0 % Positive\n",
      "Sentence Overall Rated As Positive\n",
      "\n",
      "2nd Statement:\n",
      "Overall sentiment dictionary is :  {'neg': 0.0, 'neu': 1.0, 'pos': 0.0, 'compound': 0.0}\n",
      "Sentence was rated as  0.0 % Negative\n",
      "Sentence was rated as  100.0 % Neutral\n",
      "Sentence was rated as  0.0 % Positive\n",
      "Sentence Overall Rated As Neutral\n",
      "\n",
      "3rd Statement:\n",
      "Overall sentiment dictionary is :  {'neg': 0.459, 'neu': 0.541, 'pos': 0.0, 'compound': -0.5256}\n",
      "Sentence was rated as  45.9 % Negative\n",
      "Sentence was rated as  54.1 % Neutral\n",
      "Sentence was rated as  0.0 % Positive\n",
      "Sentence Overall Rated As Negative\n"
     ]
    }
   ],
   "source": [
    "# import SentimentIntensityAnalyzer class from vaderSentiment.vaderSentiment module.\n",
    "from vaderSentiment.vaderSentiment import SentimentIntensityAnalyzer\n",
    "\n",
    "# Function to print sentiments of the sentence.\n",
    "def sentiment_scores(sentence):\n",
    "\n",
    "    # Create a SentimentIntensityAnalyzer object.\n",
    "    sid_obj = SentimentIntensityAnalyzer()\n",
    "\n",
    "    # polarity_scores method of SentimentIntensityAnalyzer object gives a sentiment dictionary.\n",
    "    # which contains pos, neg, neu, and compound scores.\n",
    "    sentiment_dict = sid_obj.polarity_scores(sentence)\n",
    "    \n",
    "    print(\"Overall sentiment dictionary is : \", sentiment_dict)\n",
    "    print(\"Sentence was rated as \", sentiment_dict['neg']*100, \"% Negative\")\n",
    "    print(\"Sentence was rated as \", sentiment_dict['neu']*100, \"% Neutral\")\n",
    "    print(\"Sentence was rated as \", sentiment_dict['pos']*100, \"% Positive\")\n",
    "\n",
    "    print(\"Sentence Overall Rated As\", end=\" \")\n",
    "\n",
    "    # Decide sentiment as positive, negative, or neutral\n",
    "    if sentiment_dict['compound'] >= 0.05 :\n",
    "        print(\"Positive\")\n",
    "    elif sentiment_dict['compound'] <= -0.05 :\n",
    "        print(\"Negative\")\n",
    "    else :\n",
    "        print(\"Neutral\")\n",
    "\n",
    "# Driver code to test the function\n",
    "if __name__ == \"__main__\" :\n",
    "\n",
    "    print(\"\\n1st Statement:\")\n",
    "    sentence = \"I am very happy today.\"\n",
    "    sentiment_scores(sentence)\n",
    "\n",
    "    print(\"\\n2nd Statement:\")\n",
    "    sentence = \"Study is going on as usual.\"\n",
    "    sentiment_scores(sentence)\n",
    "\n",
    "    print(\"\\n3rd Statement:\")\n",
    "    sentence = \"I am very sad today.\"\n",
    "    sentiment_scores(sentence)\n"
   ]
  },
  {
   "cell_type": "code",
   "execution_count": null,
   "id": "f0117d36-b40c-44bc-bc5f-94f58b6cc3af",
   "metadata": {},
   "outputs": [],
   "source": []
  }
 ],
 "metadata": {
  "kernelspec": {
   "display_name": "Python 3 (ipykernel)",
   "language": "python",
   "name": "python3"
  },
  "language_info": {
   "codemirror_mode": {
    "name": "ipython",
    "version": 3
   },
   "file_extension": ".py",
   "mimetype": "text/x-python",
   "name": "python",
   "nbconvert_exporter": "python",
   "pygments_lexer": "ipython3",
   "version": "3.12.4"
  }
 },
 "nbformat": 4,
 "nbformat_minor": 5
}
