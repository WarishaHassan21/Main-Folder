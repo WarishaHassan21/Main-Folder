{
 "cells": [
  {
   "cell_type": "code",
   "execution_count": 3,
   "id": "cc6390f3-7ae0-467b-96fd-d7688c3a624a",
   "metadata": {},
   "outputs": [
    {
     "name": "stdin",
     "output_type": "stream",
     "text": [
      "Enter the grid size (N-Queens Problem, N should be at-least 4x4):  6\n"
     ]
    },
    {
     "name": "stdout",
     "output_type": "stream",
     "text": [
      "\n",
      " ->Ensure each queen is placed in a unique row and column, avoiding any diagonal conflicts. \n",
      "\n",
      "- - - - - -\n",
      "- - - - - -\n",
      "- - - - - -\n",
      "- - - - - -\n",
      "- - - - - -\n",
      "- - - - - -\n",
      "\n"
     ]
    },
    {
     "name": "stdin",
     "output_type": "stream",
     "text": [
      "Enter row position for Queen 1 (0 to 5):  0\n",
      "Enter column position for Queen 1 (0 to 5):  3\n"
     ]
    },
    {
     "name": "stdout",
     "output_type": "stream",
     "text": [
      "- - - Q - -\n",
      "- - - - - -\n",
      "- - - - - -\n",
      "- - - - - -\n",
      "- - - - - -\n",
      "- - - - - -\n",
      "\n"
     ]
    },
    {
     "name": "stdin",
     "output_type": "stream",
     "text": [
      "Enter row position for Queen 2 (0 to 5):  1\n",
      "Enter column position for Queen 2 (0 to 5):  0\n"
     ]
    },
    {
     "name": "stdout",
     "output_type": "stream",
     "text": [
      "- - - Q - -\n",
      "Q - - - - -\n",
      "- - - - - -\n",
      "- - - - - -\n",
      "- - - - - -\n",
      "- - - - - -\n",
      "\n"
     ]
    },
    {
     "name": "stdin",
     "output_type": "stream",
     "text": [
      "Enter row position for Queen 3 (0 to 5):  2\n",
      "Enter column position for Queen 3 (0 to 5):  4\n"
     ]
    },
    {
     "name": "stdout",
     "output_type": "stream",
     "text": [
      "- - - Q - -\n",
      "Q - - - - -\n",
      "- - - - Q -\n",
      "- - - - - -\n",
      "- - - - - -\n",
      "- - - - - -\n",
      "\n"
     ]
    },
    {
     "name": "stdin",
     "output_type": "stream",
     "text": [
      "Enter row position for Queen 4 (0 to 5):  3\n",
      "Enter column position for Queen 4 (0 to 5):  1\n"
     ]
    },
    {
     "name": "stdout",
     "output_type": "stream",
     "text": [
      "- - - Q - -\n",
      "Q - - - - -\n",
      "- - - - Q -\n",
      "- Q - - - -\n",
      "- - - - - -\n",
      "- - - - - -\n",
      "\n"
     ]
    },
    {
     "name": "stdin",
     "output_type": "stream",
     "text": [
      "Enter row position for Queen 5 (0 to 5):  4\n",
      "Enter column position for Queen 5 (0 to 5):  5\n"
     ]
    },
    {
     "name": "stdout",
     "output_type": "stream",
     "text": [
      "- - - Q - -\n",
      "Q - - - - -\n",
      "- - - - Q -\n",
      "- Q - - - -\n",
      "- - - - - Q\n",
      "- - - - - -\n",
      "\n"
     ]
    },
    {
     "name": "stdin",
     "output_type": "stream",
     "text": [
      "Enter row position for Queen 6 (0 to 5):  5\n",
      "Enter column position for Queen 6 (0 to 5):  2\n"
     ]
    },
    {
     "name": "stdout",
     "output_type": "stream",
     "text": [
      "\n",
      "All Queens placed! Chcking if the solution is valid...\n",
      "\n",
      "- - - Q - -\n",
      "Q - - - - -\n",
      "- - - - Q -\n",
      "- Q - - - -\n",
      "- - - - - Q\n",
      "- - Q - - -\n",
      "\n",
      "All Queens placed successfully in a valid configuration!\n"
     ]
    },
    {
     "name": "stdin",
     "output_type": "stream",
     "text": [
      "\n",
      "Do you want to try again? (yes/no):  no\n"
     ]
    },
    {
     "name": "stdout",
     "output_type": "stream",
     "text": [
      "Game Over. Thanks for playing!\n"
     ]
    }
   ],
   "source": [
    "def is_valid(board, row, col, n):\n",
    "    \"\"\"Check if placing a queen at specific (row, col) is valid\"\"\"\n",
    "    for i in range(row):\n",
    "        if board[i][col] ==\"Q\":\n",
    "            return False\n",
    "    i, j = row, col\n",
    "    while i >=0 and j >=0:\n",
    "        if board[i][j] == \"Q\":\n",
    "            return False\n",
    "        i -= 1\n",
    "        j -=1\n",
    "    i,j = row, col\n",
    "    while i >= 0 and j < n:\n",
    "        if board[i][j] == \"Q\":\n",
    "            return False\n",
    "        i -= 1\n",
    "        j += 1\n",
    "    return True\n",
    "\n",
    "def print_board(board):\n",
    "    \"\"\"Print the chessboard.\"\"\"\n",
    "    for row in board:\n",
    "        print(\" \".join(row))\n",
    "    print()\n",
    "\n",
    "def is_solution_correct(board, n):\n",
    "    \"\"\"Check if the final board is a valid N-Queens Solution.\"\"\"\n",
    "    queen_positions =[(i, row.index(\"Q\")) for i, row in enumerate(board) if \"Q\" in row]\n",
    "\n",
    "    for i in range(n):\n",
    "        row1, col1 = queen_positions[i]\n",
    "        for j in range(i + 1, n):\n",
    "            row2, col2 = queen_positions[j]\n",
    "            if abs(row1 - row2) == abs(col1 - col2):\n",
    "                return False\n",
    "    return True\n",
    "\n",
    "def n_queens():\n",
    "    \"\"\"Interactive N-Queens placement game.\"\"\"\n",
    "    while True:\n",
    "        try:\n",
    "            n = int(input(\"Enter the grid size (N-Queens Problem, N should be at-least 4x4): \"))\n",
    "            if n < 4:\n",
    "                print(\"Grid size must be at least 4x4 for a valid solution.\")\n",
    "                continue\n",
    "            break\n",
    "        except ValueError:\n",
    "            print(\"Please enter a vlid integer.\")\n",
    "    while True:\n",
    "        board =[[\"-\" for _ in range(n)] for _ in range(n)]\n",
    "        placed_positions = set()\n",
    "        rows_used = set()\n",
    "        cols_used = set()\n",
    "        queens_placed = 0\n",
    "        print(\"\\n ->Ensure each queen is placed in a unique row and column, avoiding any diagonal conflicts. \\n\")\n",
    "\n",
    "        while queens_placed < n:\n",
    "            print_board(board)\n",
    "            try:\n",
    "                row = int(input(f\"Enter row position for Queen {queens_placed + 1} (0 to {n-1}): \"))\n",
    "                col = int(input(f\"Enter column position for Queen {queens_placed + 1} (0 to {n-1}): \"))\n",
    "                if row < 0 or row >= n or col < 0 or col >= n:\n",
    "                    print(\"Position out of bounds. Try again.\")\n",
    "                    continue\n",
    "                if row in rows_used:\n",
    "                    print(\"Each row can have only one queen. Try again.\")\n",
    "                    continue\n",
    "                if col in cols_used:\n",
    "                    print(\"Each column can have only one queen. Try again.\")\n",
    "                    continue\n",
    "                if (row, col) in placed_positions:\n",
    "                    print(\"A queen is already placed here. Try again.\")\n",
    "                    continue\n",
    "                if not is_valid(board, row, col, n):\n",
    "                    print(\"Invalid position. This queen is under attack. Try again.\")\n",
    "                    continue\n",
    "                board[row][col] = \"Q\"\n",
    "                placed_positions.add((row, col))\n",
    "                rows_used.add(row)\n",
    "                cols_used.add(col)\n",
    "                queens_placed += 1\n",
    "\n",
    "                if queens_placed == n:\n",
    "                    print(\"\\nAll Queens placed! Chcking if the solution is valid...\\n\")\n",
    "                    print_board(board)\n",
    "\n",
    "                    if is_solution_correct(board, n):\n",
    "                        print(\"All Queens placed successfully in a valid configuration!\")\n",
    "                        break\n",
    "                    else:\n",
    "                        print(\"Wrong choice. The gQueens are attacking each other!\")\n",
    "                        restart = input(\"\\nDo you want to try again? (yes/no): \").strip().lower()\n",
    "                        if restart != \"yes\":\n",
    "                            print(\"Game over. Thanks for playing!\")\n",
    "                            return\n",
    "                        else:\n",
    "                            break\n",
    "            except ValueError:\n",
    "                print(\"Please enter valid integer values for row and \")\n",
    "        restart = input(\"\\nDo you want to try again? (yes/no): \").strip().lower()\n",
    "        if restart != \"yes\":\n",
    "            print(\"Game Over. Thanks for playing!\")\n",
    "            break\n",
    "\n",
    "n_queens()\n",
    "                        \n"
   ]
  },
  {
   "cell_type": "code",
   "execution_count": null,
   "id": "a979979a-a745-43a2-9399-bcc8779b2200",
   "metadata": {},
   "outputs": [],
   "source": []
  }
 ],
 "metadata": {
  "kernelspec": {
   "display_name": "Python 3 (ipykernel)",
   "language": "python",
   "name": "python3"
  },
  "language_info": {
   "codemirror_mode": {
    "name": "ipython",
    "version": 3
   },
   "file_extension": ".py",
   "mimetype": "text/x-python",
   "name": "python",
   "nbconvert_exporter": "python",
   "pygments_lexer": "ipython3",
   "version": "3.12.4"
  }
 },
 "nbformat": 4,
 "nbformat_minor": 5
}
