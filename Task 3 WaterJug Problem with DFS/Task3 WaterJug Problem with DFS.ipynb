{
 "cells": [
  {
   "cell_type": "code",
   "execution_count": 1,
   "id": "eef30801-5e3f-4b2e-b030-d5c6db6c2357",
   "metadata": {},
   "outputs": [
    {
     "name": "stdout",
     "output_type": "stream",
     "text": [
      "\n",
      "Solution Found: \n",
      "(0,0)-Start with both jugs empty\n",
      "(5,0)-Pour Jug 2 to Jug1 Untill Full\n",
      "(2,3)-Pour Jug 1 to Jug2 Until Full\n",
      "(2,0)-Empty Jug2\n",
      "(0,3)-Pour Jug 1 to Jug2 Until Full\n",
      "(3,0)-Pour Jug 2 to Jug 1\n",
      "(3,3)-Fill Jug 2\n",
      "(5,1)-Pour Jug 2 to Jug1 Untill Full\n",
      "(0,1)-Empty Jug1\n",
      "(1,0)-Pour Jug 2 to Jug 1\n",
      "(1,3)-Fill Jug 2\n",
      "(4,0)-Pour Jug 2 to Jug 1\n"
     ]
    },
    {
     "data": {
      "text/plain": [
       "True"
      ]
     },
     "execution_count": 1,
     "metadata": {},
     "output_type": "execute_result"
    }
   ],
   "source": [
    "def waterJugProblemDFS(c1,c2, goal):\n",
    "    stack = [(0,0, \"Start with both jugs empty\")]\n",
    "    visited = set()\n",
    "    path = []\n",
    "\n",
    "    while stack:\n",
    "        jug1, jug2, rule = stack.pop()\n",
    "        path.append((jug1,jug2,rule))\n",
    "\n",
    "        if jug1 == goal or jug2 == goal:\n",
    "            print(\"\\nSolution Found: \")\n",
    "            for j1,j2,r in path:\n",
    "                print(f\"({j1},{j2})-{r}\")\n",
    "            return True\n",
    "        if (jug1, jug2) in visited:\n",
    "            path.pop()\n",
    "            continue\n",
    "        visited.add((jug1,jug2))\n",
    "\n",
    "        rules =[\n",
    "            (c1, jug2, \"Fill Jug 1\"),\n",
    "            (jug1, c2, \"Fill Jug 2\"),\n",
    "            (0, jug2, \"Empty Jug1\"),\n",
    "            (jug1, 0, \"Empty Jug2\"),\n",
    "            (jug1 - min(jug1, c2 - jug2), jug2 + min(jug1, c2 - jug2), \"Pour Jug 1 to Jug 2\"),\n",
    "            (jug1 + min(jug2, c1 - jug1), jug2 - min(jug2, c1 - jug1), \"Pour Jug 2 to Jug 1\"),\n",
    "            (jug1 - (c2 - jug2) if jug1 >= (c2 - jug2) else 0, c2, \"Pour Jug 1 to Jug2 Until Full\"),\n",
    "            (c1, jug2 - (c1 - jug1) if jug2 >= (c1 - jug1) else 0, \"Pour Jug 2 to Jug1 Untill Full\"),\n",
    "        ]\n",
    "        \n",
    "        for state in rules:\n",
    "            if (state[0], state[1]) not in visited:\n",
    "                stack.append(state)\n",
    "    print(\"\\n No Solution Found\")\n",
    "    return False\n",
    "\n",
    "\n",
    "jug1Capacity = 5\n",
    "jug2Capacity = 3\n",
    "target = 4\n",
    "\n",
    "waterJugProblemDFS(jug1Capacity, jug2Capacity, target)"
   ]
  },
  {
   "cell_type": "code",
   "execution_count": null,
   "id": "e35d14c3-cdcf-481a-a325-6499454be518",
   "metadata": {},
   "outputs": [],
   "source": []
  }
 ],
 "metadata": {
  "kernelspec": {
   "display_name": "Python 3 (ipykernel)",
   "language": "python",
   "name": "python3"
  },
  "language_info": {
   "codemirror_mode": {
    "name": "ipython",
    "version": 3
   },
   "file_extension": ".py",
   "mimetype": "text/x-python",
   "name": "python",
   "nbconvert_exporter": "python",
   "pygments_lexer": "ipython3",
   "version": "3.12.4"
  }
 },
 "nbformat": 4,
 "nbformat_minor": 5
}
